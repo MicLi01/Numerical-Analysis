{
 "cells": [
  {
   "cell_type": "code",
   "execution_count": 77,
   "metadata": {},
   "outputs": [],
   "source": [
    "import math\n",
    "\n",
    "#functions I will be testing\n",
    "funcs = [\"x^2\", \"x^3\", \"sin(x)\"]\n",
    "#functions\n",
    "exact_value_funcs = {\"x^2\": lambda x: x ** 2,\n",
    "                     \"x^3\": lambda x: x ** 3,\n",
    "                     \"sin(x)\": lambda x: math.sin(x)}\n",
    "#the function and the corresponding lambda function in a dictionary\n",
    "integral_funcs_dict = {\"x^2\": lambda a, b: b ** 3 / 3 - a ** 3 / 3,\n",
    "              \"x^3\": lambda a, b: b ** 4 / 4 - a ** 4 / 4,\n",
    "              \"sin(x)\": lambda a, b: -math.cos(b) - (-math.cos(a))}\n",
    "\n",
    "def calculate_error(func, exact_value, estimated_value):\n",
    "    \"\"\" Calculates the absolute and relative error \"\"\"\n",
    "    print(\"Errors for\", func)\n",
    "    print(\"Absolute Error: {}\".format(abs(exact_value - estimated_value)))\n",
    "    print(\"Relative Error: {}\".format(abs(exact_value - estimated_value) / exact_value))\n",
    "\n",
    "def composite_trapizoidal(func, a, b, n):\n",
    "    \"\"\" Trapizoidal rule \"\"\"\n",
    "    change_x = (b - a) / n\n",
    "    total_value = 0\n",
    "    total_value += func(a)\n",
    "    for i in range(1, n):\n",
    "        total_value += 2 * func(a + i * change_x)\n",
    "    total_value += func(a + n * change_x)\n",
    "    total_value = (change_x / 2) * total_value\n",
    "    print(\"Trapizoidal rule calculation for {} intervals: {}\".format(n, total_value))\n",
    "    return total_value\n",
    "    \n",
    "def composite_simpson(func, a, b, n):\n",
    "    \"\"\" Simpson rule \"\"\"\n",
    "    change_x = (b - a) / n\n",
    "    multiply_by = [4, 2]\n",
    "    multiply_idx = 0\n",
    "    total_value = 0\n",
    "    total_value += func(a)\n",
    "    current_idx = 1\n",
    "    for i in range(1, n):\n",
    "        total_value += multiply_by[multiply_idx] * func(a + current_idx * change_x)\n",
    "        current_idx += 1\n",
    "        if multiply_idx == 0:\n",
    "            multiply_idx = 1\n",
    "        else:\n",
    "            multiply_idx = 0\n",
    "    total_value += func(a + current_idx * change_x)\n",
    "    total_value = (change_x / 3) * total_value\n",
    "    print(\"Simpson's rule calculation for {} intervals: {}\".format(n, total_value))\n",
    "    return total_value\n",
    "    \n",
    "def compute_all_funcs():\n",
    "    for func in funcs:\n",
    "        print(composite_simpson(exact_value_funcs[func]))\n",
    "        \n",
    "def a_b_range_increase(init_a, init_b, a_change, b_change, subdivision_amt):\n",
    "    \"\"\" analysis for an increase in a and b \"\"\"\n",
    "    for func in funcs:\n",
    "        #calculates the initial value for the function\n",
    "        exact_value = integral_funcs_dict[func](init_a, init_b)\n",
    "        print(\"For function {} where a = {}, b = {}\".format(func, init_a, init_b))\n",
    "        print(\"Exact Value:\", exact_value)\n",
    "        print(\"For function {} where a = {}, b = {}\".format(func, init_a, init_b))\n",
    "        calculate_error(str(func), exact_value, composite_simpson(exact_value_funcs[func], init_a, init_b, subdivision_amt))\n",
    "        print()\n",
    "        #changed exact value\n",
    "        exact_changed_value = integral_funcs_dict[func](init_a + a_change, init_b + b_change)\n",
    "        print(\"For function {} where a = {}, b = {}\".format(func, init_a + a_change, init_b + b_change))\n",
    "        calculate_error(str(func), exact_changed_value, composite_simpson(exact_value_funcs[func], init_a + a_change, init_b + b_change, subdivision_amt))\n",
    "        print()\n",
    "\n",
    "def increase_subdivision(func, a, b, subdivisions, subdivision_change):\n",
    "    \"\"\" increase subdivisions \"\"\"\n",
    "    output1 = composite_simpson(func, a, b, subdivisions)\n",
    "    output2 = composite_simpson(func, a, b, subdivisions + subdivision_change), \"\\n\""
   ]
  },
  {
   "cell_type": "code",
   "execution_count": 49,
   "metadata": {},
   "outputs": [
    {
     "data": {
      "text/plain": [
       "24999999.75"
      ]
     },
     "execution_count": 49,
     "metadata": {},
     "output_type": "execute_result"
    }
   ],
   "source": [
    "integral_funcs_dict[\"x^3\"](1, 100)"
   ]
  },
  {
   "cell_type": "code",
   "execution_count": 4,
   "metadata": {},
   "outputs": [
    {
     "name": "stdout",
     "output_type": "stream",
     "text": [
      "Simpson's rule calculation for 4 intervals: 2.0\n"
     ]
    },
    {
     "data": {
      "text/plain": [
       "2.0"
      ]
     },
     "execution_count": 4,
     "metadata": {},
     "output_type": "execute_result"
    }
   ],
   "source": [
    "composite_simpson(lambda x: x, 0, 2, 4)"
   ]
  },
  {
   "cell_type": "code",
   "execution_count": 56,
   "metadata": {},
   "outputs": [
    {
     "name": "stdout",
     "output_type": "stream",
     "text": [
      "Simpson's rule calculation for 1111 intervals: 24970336.48168771\n"
     ]
    },
    {
     "data": {
      "text/plain": [
       "24970336.48168771"
      ]
     },
     "execution_count": 56,
     "metadata": {},
     "output_type": "execute_result"
    }
   ],
   "source": [
    "composite_simpson(lambda x: x**3, 1, 100, 1111)"
   ]
  },
  {
   "cell_type": "code",
   "execution_count": 57,
   "metadata": {},
   "outputs": [
    {
     "name": "stdout",
     "output_type": "stream",
     "text": [
      "Trapizoidal rule calculation for 1111 intervals: 25000019.599009883\n"
     ]
    },
    {
     "data": {
      "text/plain": [
       "25000019.599009883"
      ]
     },
     "execution_count": 57,
     "metadata": {},
     "output_type": "execute_result"
    }
   ],
   "source": [
    "composite_trapizoidal(lambda x: x ** 3, 1, 100, 1111)"
   ]
  },
  {
   "cell_type": "code",
   "execution_count": 71,
   "metadata": {},
   "outputs": [
    {
     "name": "stdout",
     "output_type": "stream",
     "text": [
      "For function x^2 where a = 1, b = 100\n",
      "Exact Value: 333333.0\n",
      "For function x^2 where a = 1, b = 100\n",
      "Simpson's rule calculation for 111 intervals: 330386.5427319212\n",
      "Errors for x^2\n",
      "Absolute Error: 2946.4572680788115\n",
      "Relative Error: 0.008839380643617079\n",
      "\n",
      "For function x^2 where a = 2, b = 105\n",
      "Simpson's rule calculation for 111 intervals: 382492.33495657815\n",
      "Errors for x^2\n",
      "Absolute Error: 3379.9983767551603\n",
      "Relative Error: 0.008759369575831628\n",
      "\n",
      "For function x^3 where a = 1, b = 100\n",
      "Exact Value: 24999999.75\n",
      "For function x^3 where a = 1, b = 100\n",
      "Simpson's rule calculation for 111 intervals: 24706679.75570562\n",
      "Errors for x^3\n",
      "Absolute Error: 293319.9942943789\n",
      "Relative Error: 0.011732799889103154\n",
      "\n",
      "For function x^3 where a = 2, b = 105\n",
      "Simpson's rule calculation for 111 intervals: 30034334.53847169\n",
      "Errors for x^3\n",
      "Absolute Error: 353317.7115283087\n",
      "Relative Error: 0.011627015756977695\n",
      "\n",
      "For function sin(x) where a = 1, b = 100\n",
      "Exact Value: -0.3220165664195441\n",
      "For function sin(x) where a = 1, b = 100\n",
      "Simpson's rule calculation for 111 intervals: -0.05016528866013809\n",
      "Errors for sin(x)\n",
      "Absolute Error: 0.27185127775940604\n",
      "Relative Error: -0.8442151929699807\n",
      "\n",
      "For function sin(x) where a = 2, b = 105\n",
      "Simpson's rule calculation for 111 intervals: 0.08691000935757787\n",
      "Errors for sin(x)\n",
      "Absolute Error: 0.26209779666851885\n",
      "Relative Error: -1.4960962786939092\n",
      "\n"
     ]
    }
   ],
   "source": [
    "a_b_range_increase(1, 100, 1, 5, 111)\n"
   ]
  },
  {
   "cell_type": "code",
   "execution_count": 78,
   "metadata": {},
   "outputs": [
    {
     "name": "stdout",
     "output_type": "stream",
     "text": [
      "Simpson's rule calculation for 111 intervals: 24706679.75570562\n",
      "Simpson's rule calculation for 121 intervals: 24730619.547366995\n"
     ]
    }
   ],
   "source": [
    "increase_subdivision(lambda x: x ** 3, 1, 100, 111, 10)"
   ]
  },
  {
   "cell_type": "code",
   "execution_count": null,
   "metadata": {},
   "outputs": [],
   "source": []
  }
 ],
 "metadata": {
  "kernelspec": {
   "display_name": "Python 3",
   "language": "python",
   "name": "python3"
  },
  "language_info": {
   "codemirror_mode": {
    "name": "ipython",
    "version": 3
   },
   "file_extension": ".py",
   "mimetype": "text/x-python",
   "name": "python",
   "nbconvert_exporter": "python",
   "pygments_lexer": "ipython3",
   "version": "3.7.1"
  }
 },
 "nbformat": 4,
 "nbformat_minor": 2
}
